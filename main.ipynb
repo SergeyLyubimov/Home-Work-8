{
 "cells": [
  {
   "cell_type": "markdown",
   "id": "39c88317-fbf5-4d1e-b8f2-69412d3f0d49",
   "metadata": {},
   "source": [
    "# Общие требования к программе:\n",
    "\n",
    "- код должен быть грамотно декомпозирован: каждая функция отвечает за свою конкретную задачу, дублирующиеся функции переиспользуются, а их код не повторяется;\n",
    "- в коде отсутствуют глобальные переменные.\n",
    "\n",
    "Цель: разработать систему, которая будет формировать описания покупателей на основе характеристик, представленных в файле.\n",
    "\n",
    "На входе — CSV-файл с характеристиками покупателей.\n",
    "\n",
    "На выходе — TXT-файл с описаниями.\n",
    "\n",
    "# Шаги:\n",
    "\n",
    "1. Загрузить CSV-файл.\n",
    "2. Выполнить парсинг (извлечение атрибутов из структурированного текста).\n",
    "3. Преобразовать данные (при необходимости).\n",
    "4. Сформировать текстовое описание по шаблону.\n",
    "5. Записать в единый TXT-файл."
   ]
  },
  {
   "cell_type": "markdown",
   "id": "aecbe84d-0860-47cd-a0ef-5002315ea87f",
   "metadata": {},
   "source": [
    "## Использование классов и объектов\n",
    "\n",
    "Так как я не знал, нужно ли в этом задании использовать классы и объекты, по причине, что это просто добавит ненужной сложности, но при этом тема домашнего задания указана как \"Классы и объекты (ООП)\", я решил сделать два варианта. С ООП и без.\n",
    "\n",
    "## Вариант 1"
   ]
  },
  {
   "cell_type": "code",
   "execution_count": 1,
   "id": "5b906320-d052-409d-a2d4-a76f3697045a",
   "metadata": {},
   "outputs": [],
   "source": [
    "import csv"
   ]
  },
  {
   "cell_type": "code",
   "execution_count": 12,
   "id": "faf5f146-e020-46cc-8a8d-17c996efc05e",
   "metadata": {},
   "outputs": [],
   "source": [
    "def csv_to_dict(file_name):\n",
    "    result = []\n",
    "    with open(file_name, 'r') as file:\n",
    "        reader = csv.DictReader(file, delimiter=\",\")\n",
    "        for line in reader:\n",
    "            result.append(line)\n",
    "    return result"
   ]
  },
  {
   "cell_type": "code",
   "execution_count": 30,
   "id": "10ffa3b4-b346-43b1-bbf3-f3cebceec13d",
   "metadata": {},
   "outputs": [],
   "source": [
    "def form_description(data):\n",
    "    desc = []\n",
    "    for person in data:\n",
    "        f = 0 if person['sex'] == 'male' else 1\n",
    "        match person['device_type']:\n",
    "            case 'mobile':\n",
    "                device = 'мобильного браузера'\n",
    "            case 'tablet':\n",
    "                device = 'планшетного браузера'\n",
    "            case 'laptop':\n",
    "                device = 'браузера ноутбука'\n",
    "            case 'desktop':\n",
    "                device = 'пк браузера'\n",
    "        desc.append(f'Пользователь {person['name']} {'женского' if f else 'мужского'} пола, {person['age']} лет совершил{'a' if f else ''} покупку на {person['bill']} у.е. с {device} {person['browser']}. Регион, из которого совершалась покупка: {person['region']}.\\n')\n",
    "    return desc"
   ]
  },
  {
   "cell_type": "code",
   "execution_count": 31,
   "id": "3c79f2a0-1f5d-4fbc-a3d4-1f42ea9f83bf",
   "metadata": {},
   "outputs": [],
   "source": [
    "def write_desc(desc):\n",
    "    with open('descriptions.txt', 'w', encoding='UTF-8') as file:\n",
    "        file.writelines(desc)"
   ]
  },
  {
   "cell_type": "code",
   "execution_count": 32,
   "id": "46604669-3d66-4edd-8cde-7fda005a5554",
   "metadata": {},
   "outputs": [],
   "source": [
    "result = csv_to_dict('web_clients_correct.csv')\n",
    "desc = form_description(result)\n",
    "write_desc(desc)"
   ]
  },
  {
   "cell_type": "markdown",
   "id": "16b79f10-87c7-4f88-bf8c-044459745ad4",
   "metadata": {},
   "source": [
    "## Вариант 2"
   ]
  },
  {
   "cell_type": "code",
   "execution_count": 1,
   "id": "f97bb2c1-556a-4056-83b3-3b92deb6c164",
   "metadata": {},
   "outputs": [],
   "source": [
    "import csv"
   ]
  },
  {
   "cell_type": "code",
   "execution_count": 2,
   "id": "884e7dfc-cb3e-4e65-b8e0-908bfa79c94e",
   "metadata": {},
   "outputs": [],
   "source": [
    "class ThisIsAClass:\n",
    "\n",
    "    def __init__(self, file_name):\n",
    "        self.file_name = file_name\n",
    "\n",
    "    def csv_to_dict(self):\n",
    "        self.data = []\n",
    "        with open(self.file_name, 'r') as file:\n",
    "            reader = csv.DictReader(file, delimiter=\",\")\n",
    "            for line in reader:\n",
    "                self.data.append(line)\n",
    "                \n",
    "    def form_description(self):\n",
    "        self.desc = []\n",
    "        for person in self.data:\n",
    "            f = 0 if person['sex'] == 'male' else 1\n",
    "            match person['device_type']:\n",
    "                case 'mobile':\n",
    "                    device = 'мобильного браузера'\n",
    "                case 'tablet':\n",
    "                    device = 'планшетного браузера'\n",
    "                case 'laptop':\n",
    "                    device = 'браузера ноутбука'\n",
    "                case 'desktop':\n",
    "                    device = 'пк браузера'\n",
    "            self.desc.append(f'Пользователь {person['name']} {'женского' if f else 'мужского'} пола, {person['age']} лет совершил{'a' if f else ''} покупку на {person['bill']} у.е. с {device} {person['browser']}. Регион, из которого совершалась покупка: {person['region']}.\\n')\n",
    "\n",
    "    def write_desc(self):\n",
    "        with open('descriptions.txt', 'w', encoding='UTF-8') as file:\n",
    "            file.writelines(self.desc)"
   ]
  },
  {
   "cell_type": "code",
   "execution_count": 5,
   "id": "3ba969c1-d534-4354-8469-f7c51eed7042",
   "metadata": {},
   "outputs": [],
   "source": [
    "this_is_an_object = ThisIsAClass('web_clients_correct.csv')\n",
    "this_is_an_object.csv_to_dict()\n",
    "this_is_an_object.form_description()\n",
    "this_is_an_object.write_desc()"
   ]
  },
  {
   "cell_type": "code",
   "execution_count": null,
   "id": "2dc8e62c-c1ae-48b3-8875-33d494427598",
   "metadata": {},
   "outputs": [],
   "source": []
  }
 ],
 "metadata": {
  "kernelspec": {
   "display_name": "Python 3 (ipykernel)",
   "language": "python",
   "name": "python3"
  },
  "language_info": {
   "codemirror_mode": {
    "name": "ipython",
    "version": 3
   },
   "file_extension": ".py",
   "mimetype": "text/x-python",
   "name": "python",
   "nbconvert_exporter": "python",
   "pygments_lexer": "ipython3",
   "version": "3.12.7"
  }
 },
 "nbformat": 4,
 "nbformat_minor": 5
}
